{
 "cells": [
  {
   "cell_type": "code",
   "execution_count": 1,
   "id": "50e58d23",
   "metadata": {},
   "outputs": [],
   "source": [
    "s='Deepali Jagtap'"
   ]
  },
  {
   "cell_type": "code",
   "execution_count": 2,
   "id": "69937d82",
   "metadata": {},
   "outputs": [
    {
     "data": {
      "text/plain": [
       "14"
      ]
     },
     "execution_count": 2,
     "metadata": {},
     "output_type": "execute_result"
    }
   ],
   "source": [
    "len(s) # finding lenth with inbuilt function"
   ]
  },
  {
   "cell_type": "code",
   "execution_count": 3,
   "id": "4bb8663e",
   "metadata": {},
   "outputs": [
    {
     "name": "stdout",
     "output_type": "stream",
     "text": [
      "Length of string is: 14\n"
     ]
    }
   ],
   "source": [
    "# finding length without using len function\n",
    "count=0\n",
    "for i in s :\n",
    "    count+=1\n",
    "print('Length of string is:',count)\n",
    "    "
   ]
  },
  {
   "cell_type": "code",
   "execution_count": 13,
   "id": "b25d3d74",
   "metadata": {},
   "outputs": [
    {
     "ename": "TypeError",
     "evalue": "'str' object does not support item assignment",
     "output_type": "error",
     "traceback": [
      "\u001b[1;31m---------------------------------------------------------------------------\u001b[0m",
      "\u001b[1;31mTypeError\u001b[0m                                 Traceback (most recent call last)",
      "\u001b[1;32m~\\AppData\\Local\\Temp\\ipykernel_9624\\1025378167.py\u001b[0m in \u001b[0;36m<module>\u001b[1;34m\u001b[0m\n\u001b[1;32m----> 1\u001b[1;33m \u001b[0ms\u001b[0m\u001b[1;33m[\u001b[0m\u001b[1;36m2\u001b[0m\u001b[1;33m]\u001b[0m \u001b[1;33m=\u001b[0m \u001b[1;34m'i'\u001b[0m\u001b[1;33m\u001b[0m\u001b[1;33m\u001b[0m\u001b[0m\n\u001b[0m",
      "\u001b[1;31mTypeError\u001b[0m: 'str' object does not support item assignment"
     ]
    }
   ],
   "source": [
    "s[2] = 'i' # String is immutable in nature"
   ]
  },
  {
   "cell_type": "code",
   "execution_count": 14,
   "id": "6fce46c6",
   "metadata": {},
   "outputs": [
    {
     "data": {
      "text/plain": [
       "2707729649136"
      ]
     },
     "execution_count": 14,
     "metadata": {},
     "output_type": "execute_result"
    }
   ],
   "source": [
    "id(s)"
   ]
  },
  {
   "cell_type": "code",
   "execution_count": 17,
   "id": "b18d9795",
   "metadata": {},
   "outputs": [
    {
     "data": {
      "text/plain": [
       "'Diipali Jagtap'"
      ]
     },
     "execution_count": 17,
     "metadata": {},
     "output_type": "execute_result"
    }
   ],
   "source": [
    "s.replace('e','i') # it has not muted"
   ]
  },
  {
   "cell_type": "code",
   "execution_count": 16,
   "id": "a574244e",
   "metadata": {},
   "outputs": [
    {
     "data": {
      "text/plain": [
       "'Deepali Jagtap'"
      ]
     },
     "execution_count": 16,
     "metadata": {},
     "output_type": "execute_result"
    }
   ],
   "source": [
    "s"
   ]
  },
  {
   "cell_type": "code",
   "execution_count": 18,
   "id": "dbd65445",
   "metadata": {},
   "outputs": [],
   "source": [
    "s=s.replace('e','i')"
   ]
  },
  {
   "cell_type": "code",
   "execution_count": 21,
   "id": "8c439977",
   "metadata": {},
   "outputs": [
    {
     "data": {
      "text/plain": [
       "2707730387760"
      ]
     },
     "execution_count": 21,
     "metadata": {},
     "output_type": "execute_result"
    }
   ],
   "source": [
    "id(s) # id changes it means it is immutable"
   ]
  },
  {
   "cell_type": "code",
   "execution_count": 22,
   "id": "4e310bec",
   "metadata": {},
   "outputs": [
    {
     "data": {
      "text/plain": [
       "'DIIPALI JAGTAP'"
      ]
     },
     "execution_count": 22,
     "metadata": {},
     "output_type": "execute_result"
    }
   ],
   "source": [
    "s.upper()"
   ]
  },
  {
   "cell_type": "code",
   "execution_count": 23,
   "id": "423ceafa",
   "metadata": {},
   "outputs": [
    {
     "data": {
      "text/plain": [
       "'diipali jagtap'"
      ]
     },
     "execution_count": 23,
     "metadata": {},
     "output_type": "execute_result"
    }
   ],
   "source": [
    "s.lower()"
   ]
  },
  {
   "cell_type": "code",
   "execution_count": 24,
   "id": "d60f8283",
   "metadata": {},
   "outputs": [
    {
     "data": {
      "text/plain": [
       "'Diipali Jagtap'"
      ]
     },
     "execution_count": 24,
     "metadata": {},
     "output_type": "execute_result"
    }
   ],
   "source": [
    "s.title()"
   ]
  },
  {
   "cell_type": "code",
   "execution_count": 25,
   "id": "9fa3642a",
   "metadata": {},
   "outputs": [
    {
     "data": {
      "text/plain": [
       "'Diipali jagtap'"
      ]
     },
     "execution_count": 25,
     "metadata": {},
     "output_type": "execute_result"
    }
   ],
   "source": [
    "s.capitalize()"
   ]
  },
  {
   "cell_type": "code",
   "execution_count": 26,
   "id": "5523d80d",
   "metadata": {},
   "outputs": [
    {
     "data": {
      "text/plain": [
       "False"
      ]
     },
     "execution_count": 26,
     "metadata": {},
     "output_type": "execute_result"
    }
   ],
   "source": [
    "s.isupper()"
   ]
  },
  {
   "cell_type": "code",
   "execution_count": 27,
   "id": "4586133b",
   "metadata": {},
   "outputs": [
    {
     "data": {
      "text/plain": [
       "False"
      ]
     },
     "execution_count": 27,
     "metadata": {},
     "output_type": "execute_result"
    }
   ],
   "source": [
    "s.islower()"
   ]
  },
  {
   "cell_type": "code",
   "execution_count": 28,
   "id": "97c212b6",
   "metadata": {},
   "outputs": [
    {
     "data": {
      "text/plain": [
       "True"
      ]
     },
     "execution_count": 28,
     "metadata": {},
     "output_type": "execute_result"
    }
   ],
   "source": [
    "s.istitle()"
   ]
  },
  {
   "cell_type": "code",
   "execution_count": 29,
   "id": "927ff927",
   "metadata": {},
   "outputs": [
    {
     "data": {
      "text/plain": [
       "'dIIPALI jAGTAP'"
      ]
     },
     "execution_count": 29,
     "metadata": {},
     "output_type": "execute_result"
    }
   ],
   "source": [
    "s.swapcase()"
   ]
  },
  {
   "cell_type": "code",
   "execution_count": 30,
   "id": "d01f3917",
   "metadata": {},
   "outputs": [
    {
     "data": {
      "text/plain": [
       "['Diipali', 'Jagtap']"
      ]
     },
     "execution_count": 30,
     "metadata": {},
     "output_type": "execute_result"
    }
   ],
   "source": [
    "s.split()"
   ]
  },
  {
   "cell_type": "code",
   "execution_count": 31,
   "id": "2f26b587",
   "metadata": {},
   "outputs": [],
   "source": [
    "st='I love ,Python'"
   ]
  },
  {
   "cell_type": "code",
   "execution_count": 49,
   "id": "ddfa88fe",
   "metadata": {},
   "outputs": [
    {
     "data": {
      "text/plain": [
       "'I, ,l,o,v,e, ,,,P,y,t,h,o,n'"
      ]
     },
     "execution_count": 49,
     "metadata": {},
     "output_type": "execute_result"
    }
   ],
   "source": [
    "','.join(st)"
   ]
  },
  {
   "cell_type": "code",
   "execution_count": 44,
   "id": "f9df884b",
   "metadata": {},
   "outputs": [
    {
     "data": {
      "text/plain": [
       "['I love ', 'Python']"
      ]
     },
     "execution_count": 44,
     "metadata": {},
     "output_type": "execute_result"
    }
   ],
   "source": [
    "l=st.split(',')\n",
    "l"
   ]
  },
  {
   "cell_type": "code",
   "execution_count": 45,
   "id": "d1a946e4",
   "metadata": {},
   "outputs": [
    {
     "data": {
      "text/plain": [
       "'I love Python'"
      ]
     },
     "execution_count": 45,
     "metadata": {},
     "output_type": "execute_result"
    }
   ],
   "source": [
    "''.join(l)"
   ]
  },
  {
   "cell_type": "code",
   "execution_count": 46,
   "id": "784e6ed8",
   "metadata": {},
   "outputs": [
    {
     "name": "stdout",
     "output_type": "stream",
     "text": [
      "['__add__', '__class__', '__contains__', '__delattr__', '__dir__', '__doc__', '__eq__', '__format__', '__ge__', '__getattribute__', '__getitem__', '__getnewargs__', '__gt__', '__hash__', '__init__', '__init_subclass__', '__iter__', '__le__', '__len__', '__lt__', '__mod__', '__mul__', '__ne__', '__new__', '__reduce__', '__reduce_ex__', '__repr__', '__rmod__', '__rmul__', '__setattr__', '__sizeof__', '__str__', '__subclasshook__', 'capitalize', 'casefold', 'center', 'count', 'encode', 'endswith', 'expandtabs', 'find', 'format', 'format_map', 'index', 'isalnum', 'isalpha', 'isascii', 'isdecimal', 'isdigit', 'isidentifier', 'islower', 'isnumeric', 'isprintable', 'isspace', 'istitle', 'isupper', 'join', 'ljust', 'lower', 'lstrip', 'maketrans', 'partition', 'removeprefix', 'removesuffix', 'replace', 'rfind', 'rindex', 'rjust', 'rpartition', 'rsplit', 'rstrip', 'split', 'splitlines', 'startswith', 'strip', 'swapcase', 'title', 'translate', 'upper', 'zfill']\n"
     ]
    }
   ],
   "source": [
    "print(dir(sr))"
   ]
  },
  {
   "cell_type": "code",
   "execution_count": 33,
   "id": "d2c03673",
   "metadata": {},
   "outputs": [
    {
     "data": {
      "text/plain": [
       "['I', 'love', ',Python']"
      ]
     },
     "execution_count": 33,
     "metadata": {},
     "output_type": "execute_result"
    }
   ],
   "source": [
    "st.split()"
   ]
  },
  {
   "cell_type": "code",
   "execution_count": 50,
   "id": "045d2689",
   "metadata": {},
   "outputs": [
    {
     "data": {
      "text/plain": [
       "['I', 'love', ',Python']"
      ]
     },
     "execution_count": 50,
     "metadata": {},
     "output_type": "execute_result"
    }
   ],
   "source": [
    "st.rsplit()"
   ]
  },
  {
   "cell_type": "code",
   "execution_count": 53,
   "id": "c3694fc2",
   "metadata": {},
   "outputs": [
    {
     "data": {
      "text/plain": [
       "['I', 'love ,Python']"
      ]
     },
     "execution_count": 53,
     "metadata": {},
     "output_type": "execute_result"
    }
   ],
   "source": [
    "st.split(maxsplit=1)"
   ]
  },
  {
   "cell_type": "code",
   "execution_count": 54,
   "id": "46a899a0",
   "metadata": {},
   "outputs": [
    {
     "data": {
      "text/plain": [
       "['I love', ',Python']"
      ]
     },
     "execution_count": 54,
     "metadata": {},
     "output_type": "execute_result"
    }
   ],
   "source": [
    "st.rsplit(maxsplit=1)"
   ]
  },
  {
   "cell_type": "code",
   "execution_count": 35,
   "id": "1cb92f67",
   "metadata": {},
   "outputs": [],
   "source": [
    "sr=\"***Deep**ali##\""
   ]
  },
  {
   "cell_type": "code",
   "execution_count": 37,
   "id": "e39f8782",
   "metadata": {},
   "outputs": [
    {
     "data": {
      "text/plain": [
       "'Deep**ali##'"
      ]
     },
     "execution_count": 37,
     "metadata": {},
     "output_type": "execute_result"
    }
   ],
   "source": [
    "sr.strip('*')"
   ]
  },
  {
   "cell_type": "code",
   "execution_count": 41,
   "id": "947bfbac",
   "metadata": {},
   "outputs": [
    {
     "data": {
      "text/plain": [
       "'***Deep**ali'"
      ]
     },
     "execution_count": 41,
     "metadata": {},
     "output_type": "execute_result"
    }
   ],
   "source": [
    "sr.strip('#')"
   ]
  },
  {
   "cell_type": "code",
   "execution_count": 42,
   "id": "b5ba92e3",
   "metadata": {},
   "outputs": [
    {
     "data": {
      "text/plain": [
       "'Deepali##'"
      ]
     },
     "execution_count": 42,
     "metadata": {},
     "output_type": "execute_result"
    }
   ],
   "source": [
    "sr.replace('*','')"
   ]
  },
  {
   "cell_type": "code",
   "execution_count": 55,
   "id": "50c0d3f9",
   "metadata": {},
   "outputs": [
    {
     "data": {
      "text/plain": [
       "['', '', '', 'Deep', '', 'ali##']"
      ]
     },
     "execution_count": 55,
     "metadata": {},
     "output_type": "execute_result"
    }
   ],
   "source": [
    "sr.split('*')"
   ]
  },
  {
   "cell_type": "code",
   "execution_count": 59,
   "id": "81ddd119",
   "metadata": {},
   "outputs": [
    {
     "data": {
      "text/plain": [
       "'***deep**ali##'"
      ]
     },
     "execution_count": 59,
     "metadata": {},
     "output_type": "execute_result"
    }
   ],
   "source": [
    "sr.casefold() # converts special letters or unicode and all letters in lowercase"
   ]
  },
  {
   "cell_type": "code",
   "execution_count": 57,
   "id": "6f0afa9f",
   "metadata": {},
   "outputs": [],
   "source": [
    "sc='DEEPßALI'"
   ]
  },
  {
   "cell_type": "code",
   "execution_count": 58,
   "id": "ffb8b9cf",
   "metadata": {},
   "outputs": [
    {
     "data": {
      "text/plain": [
       "'deepssali'"
      ]
     },
     "execution_count": 58,
     "metadata": {},
     "output_type": "execute_result"
    }
   ],
   "source": [
    "sc.casefold()"
   ]
  },
  {
   "cell_type": "code",
   "execution_count": 4,
   "id": "17b10ccb",
   "metadata": {},
   "outputs": [
    {
     "data": {
      "text/plain": [
       "1"
      ]
     },
     "execution_count": 4,
     "metadata": {},
     "output_type": "execute_result"
    }
   ],
   "source": [
    "s.find('e')"
   ]
  },
  {
   "cell_type": "code",
   "execution_count": 6,
   "id": "b7e4e5cd",
   "metadata": {},
   "outputs": [
    {
     "data": {
      "text/plain": [
       "2"
      ]
     },
     "execution_count": 6,
     "metadata": {},
     "output_type": "execute_result"
    }
   ],
   "source": [
    "s.rfind('e')"
   ]
  },
  {
   "cell_type": "code",
   "execution_count": 7,
   "id": "27b5394b",
   "metadata": {},
   "outputs": [
    {
     "data": {
      "text/plain": [
       "13"
      ]
     },
     "execution_count": 7,
     "metadata": {},
     "output_type": "execute_result"
    }
   ],
   "source": [
    "s.rindex('p')"
   ]
  },
  {
   "cell_type": "code",
   "execution_count": 8,
   "id": "70f3de09",
   "metadata": {},
   "outputs": [
    {
     "data": {
      "text/plain": [
       "-1"
      ]
     },
     "execution_count": 8,
     "metadata": {},
     "output_type": "execute_result"
    }
   ],
   "source": [
    "s.find('s')"
   ]
  },
  {
   "cell_type": "code",
   "execution_count": 9,
   "id": "14cc8fb6",
   "metadata": {},
   "outputs": [
    {
     "ename": "ValueError",
     "evalue": "substring not found",
     "output_type": "error",
     "traceback": [
      "\u001b[1;31m---------------------------------------------------------------------------\u001b[0m",
      "\u001b[1;31mValueError\u001b[0m                                Traceback (most recent call last)",
      "\u001b[1;32m~\\AppData\\Local\\Temp\\ipykernel_9624\\3010984791.py\u001b[0m in \u001b[0;36m<module>\u001b[1;34m\u001b[0m\n\u001b[1;32m----> 1\u001b[1;33m \u001b[0ms\u001b[0m\u001b[1;33m.\u001b[0m\u001b[0mindex\u001b[0m\u001b[1;33m(\u001b[0m\u001b[1;34m's'\u001b[0m\u001b[1;33m)\u001b[0m\u001b[1;33m\u001b[0m\u001b[1;33m\u001b[0m\u001b[0m\n\u001b[0m",
      "\u001b[1;31mValueError\u001b[0m: substring not found"
     ]
    }
   ],
   "source": [
    "s.index('s')"
   ]
  },
  {
   "cell_type": "markdown",
   "id": "56d139ee",
   "metadata": {},
   "source": [
    "### find returns -1 if letter is not present and index gives value error"
   ]
  },
  {
   "cell_type": "code",
   "execution_count": 10,
   "id": "cd86b877",
   "metadata": {},
   "outputs": [
    {
     "data": {
      "text/plain": [
       "2"
      ]
     },
     "execution_count": 10,
     "metadata": {},
     "output_type": "execute_result"
    }
   ],
   "source": [
    "s.count('e')"
   ]
  },
  {
   "cell_type": "code",
   "execution_count": 61,
   "id": "5a7259b6",
   "metadata": {},
   "outputs": [
    {
     "data": {
      "text/plain": [
       "'Diipali Jagtap'"
      ]
     },
     "execution_count": 61,
     "metadata": {},
     "output_type": "execute_result"
    }
   ],
   "source": [
    "s"
   ]
  },
  {
   "cell_type": "code",
   "execution_count": 62,
   "id": "df1ad096",
   "metadata": {},
   "outputs": [
    {
     "data": {
      "text/plain": [
       "'Diipali Jagta'"
      ]
     },
     "execution_count": 62,
     "metadata": {},
     "output_type": "execute_result"
    }
   ],
   "source": [
    "s[:-1]"
   ]
  },
  {
   "cell_type": "code",
   "execution_count": 72,
   "id": "e3603631",
   "metadata": {},
   "outputs": [
    {
     "data": {
      "text/plain": [
       "'ilapiiD patgaJ'"
      ]
     },
     "execution_count": 72,
     "metadata": {},
     "output_type": "execute_result"
    }
   ],
   "source": [
    "' '.join(s[::-1].split()[::-1])"
   ]
  },
  {
   "cell_type": "code",
   "execution_count": 73,
   "id": "597b76ed",
   "metadata": {},
   "outputs": [
    {
     "data": {
      "text/plain": [
       "'p a t g a J   i l a p i i D'"
      ]
     },
     "execution_count": 73,
     "metadata": {},
     "output_type": "execute_result"
    }
   ],
   "source": [
    "' '.join(s[::-1])"
   ]
  },
  {
   "cell_type": "code",
   "execution_count": 2,
   "id": "adb0b305",
   "metadata": {},
   "outputs": [
    {
     "data": {
      "text/plain": [
       "'We are the so-called \"Vikings\" from the north.'"
      ]
     },
     "execution_count": 2,
     "metadata": {},
     "output_type": "execute_result"
    }
   ],
   "source": [
    "txt=\"We are the so-called \\\"Vikings\\\" from the north.\"# The escape character allows you to use double \n",
    "                                                      # quotes when you normally would not be allowed:\n",
    "txt"
   ]
  },
  {
   "cell_type": "code",
   "execution_count": 3,
   "id": "83b27014",
   "metadata": {},
   "outputs": [
    {
     "ename": "SyntaxError",
     "evalue": "invalid syntax (4056211336.py, line 1)",
     "output_type": "error",
     "traceback": [
      "\u001b[1;36m  File \u001b[1;32m\"C:\\Users\\Dattatray Jagtap\\AppData\\Local\\Temp\\ipykernel_4300\\4056211336.py\"\u001b[1;36m, line \u001b[1;32m1\u001b[0m\n\u001b[1;33m    txt1=\"I am a \"DataScientist\"\"\u001b[0m\n\u001b[1;37m                  ^\u001b[0m\n\u001b[1;31mSyntaxError\u001b[0m\u001b[1;31m:\u001b[0m invalid syntax\n"
     ]
    }
   ],
   "source": [
    "txt1=\"I am a \"DataScientist\"\""
   ]
  },
  {
   "cell_type": "code",
   "execution_count": 6,
   "id": "e9d164ca",
   "metadata": {},
   "outputs": [],
   "source": [
    "d='deepali Bhoesale'"
   ]
  },
  {
   "cell_type": "code",
   "execution_count": 8,
   "id": "992531ac",
   "metadata": {},
   "outputs": [
    {
     "data": {
      "text/plain": [
       "11"
      ]
     },
     "execution_count": 8,
     "metadata": {},
     "output_type": "execute_result"
    }
   ],
   "source": [
    "d.find('e',3) # we can check first occurence with find , last occurence with rfind and 2nd or any occurence by giving the number"
   ]
  },
  {
   "cell_type": "code",
   "execution_count": null,
   "id": "280e80d9",
   "metadata": {},
   "outputs": [],
   "source": []
  },
  {
   "cell_type": "markdown",
   "id": "a38d1807",
   "metadata": {},
   "source": [
    "### https://towardsdatascience.com/15-must-know-python-string-methods-64a4f554941b"
   ]
  },
  {
   "cell_type": "code",
   "execution_count": 10,
   "id": "f69238aa",
   "metadata": {},
   "outputs": [
    {
     "data": {
      "text/plain": [
       "('Python is awesome ', 'and', ' it is easy to learn.')"
      ]
     },
     "execution_count": 10,
     "metadata": {},
     "output_type": "execute_result"
    }
   ],
   "source": [
    "txt = \"Python is awesome!\"\n",
    "txt.partition(\"is\")\n",
    "('Python ', 'is', ' awesome!')\n",
    "txt = \"Python is awesome and it is easy to learn.\"\n",
    "txt.partition(\"and\")\n",
    "('Python is awesome ', 'and', ' it is easy to learn.')"
   ]
  },
  {
   "cell_type": "markdown",
   "id": "55dce819",
   "metadata": {},
   "source": [
    "### The partition method returns exactly 3 parts. If there are multiple occurrences of the character used for partitioning, the first one is taken into account."
   ]
  },
  {
   "cell_type": "code",
   "execution_count": 11,
   "id": "5907cf6d",
   "metadata": {},
   "outputs": [
    {
     "data": {
      "text/plain": [
       "('Python ', 'and', ' data science and machine learning')"
      ]
     },
     "execution_count": 11,
     "metadata": {},
     "output_type": "execute_result"
    }
   ],
   "source": [
    "txt = \"Python and data science and machine learning\"\n",
    "txt.partition(\"and\")\n",
    "('Python ', 'and', ' data science and machine learning')"
   ]
  },
  {
   "cell_type": "markdown",
   "id": "fbbe6b3e",
   "metadata": {},
   "source": [
    "### We can also do a similar operation with the split method by limiting the number of splits. However, there are some differences.\n",
    "\n",
    "The split method returns a list\n",
    "The returned list does not include the characters used for splitting"
   ]
  },
  {
   "cell_type": "code",
   "execution_count": 12,
   "id": "4342badc",
   "metadata": {},
   "outputs": [
    {
     "data": {
      "text/plain": [
       "['Python ', ' data science and machine learning']"
      ]
     },
     "execution_count": 12,
     "metadata": {},
     "output_type": "execute_result"
    }
   ],
   "source": [
    "txt = \"Python and data science and machine learning\"\n",
    "txt.split(\"and\", 1)\n",
    "['Python ', ' data science and machine learning']"
   ]
  },
  {
   "cell_type": "markdown",
   "id": "cedff4de",
   "metadata": {},
   "source": [
    "### https://towardsdatascience.com/mastering-string-methods-in-python-456174ede911"
   ]
  },
  {
   "cell_type": "markdown",
   "id": "2b3416e6",
   "metadata": {},
   "source": [
    "### https://towardsdatascience.com/mastering-indexing-and-slicing-in-python-443e23457125"
   ]
  },
  {
   "cell_type": "code",
   "execution_count": 3,
   "id": "74849cc3",
   "metadata": {},
   "outputs": [
    {
     "name": "stdout",
     "output_type": "stream",
     "text": [
      "['Tendulkar', 'Ramesh', 'Sachin']\n",
      "Tendulkar Ramesh Sachin Tendulkar Ramesh Sachin \n"
     ]
    }
   ],
   "source": [
    "nm = 'Sachin Ramesh Tendulkar'\n",
    "# PS: Reverse fname and Lastname\n",
    "j = nm.split()\n",
    "print(j[::-1])\n",
    "e = ''\n",
    "for i in j[::-1]:\n",
    "    print(i,end=' ')\n",
    "    e +=i+' '\n",
    "print(e)"
   ]
  },
  {
   "cell_type": "code",
   "execution_count": null,
   "id": "9a2a9b80",
   "metadata": {},
   "outputs": [],
   "source": []
  }
 ],
 "metadata": {
  "kernelspec": {
   "display_name": "Python 3 (ipykernel)",
   "language": "python",
   "name": "python3"
  },
  "language_info": {
   "codemirror_mode": {
    "name": "ipython",
    "version": 3
   },
   "file_extension": ".py",
   "mimetype": "text/x-python",
   "name": "python",
   "nbconvert_exporter": "python",
   "pygments_lexer": "ipython3",
   "version": "3.9.13"
  }
 },
 "nbformat": 4,
 "nbformat_minor": 5
}
