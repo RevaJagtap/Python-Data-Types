{
 "cells": [
  {
   "cell_type": "code",
   "execution_count": 1,
   "id": "02f39888",
   "metadata": {},
   "outputs": [],
   "source": [
    "# Set is mutable\n",
    "# to create empty set\n",
    "s={()} \n",
    "s=set()\n",
    "#Once a set is created, you cannot change its items, but you can remove items and add new items."
   ]
  },
  {
   "cell_type": "code",
   "execution_count": 3,
   "id": "eb35b839",
   "metadata": {},
   "outputs": [
    {
     "name": "stdout",
     "output_type": "stream",
     "text": [
      "['__and__', '__class__', '__class_getitem__', '__contains__', '__delattr__', '__dir__', '__doc__', '__eq__', '__format__', '__ge__', '__getattribute__', '__gt__', '__hash__', '__iand__', '__init__', '__init_subclass__', '__ior__', '__isub__', '__iter__', '__ixor__', '__le__', '__len__', '__lt__', '__ne__', '__new__', '__or__', '__rand__', '__reduce__', '__reduce_ex__', '__repr__', '__ror__', '__rsub__', '__rxor__', '__setattr__', '__sizeof__', '__str__', '__sub__', '__subclasshook__', '__xor__', 'add', 'clear', 'copy', 'difference', 'difference_update', 'discard', 'intersection', 'intersection_update', 'isdisjoint', 'issubset', 'issuperset', 'pop', 'remove', 'symmetric_difference', 'symmetric_difference_update', 'union', 'update']\n"
     ]
    }
   ],
   "source": [
    "print(dir(s))"
   ]
  },
  {
   "cell_type": "code",
   "execution_count": 4,
   "id": "ffba367a",
   "metadata": {},
   "outputs": [],
   "source": [
    "s={50,80,20,15,'Sadiya','Pooja'}"
   ]
  },
  {
   "cell_type": "code",
   "execution_count": 6,
   "id": "8bf3a180",
   "metadata": {},
   "outputs": [],
   "source": [
    "s.add(50) #This has no effect if the element is already present. Duplicates not allowed"
   ]
  },
  {
   "cell_type": "code",
   "execution_count": 7,
   "id": "c085a9a7",
   "metadata": {},
   "outputs": [],
   "source": [
    "s.add(25)"
   ]
  },
  {
   "cell_type": "code",
   "execution_count": 8,
   "id": "0784be7b",
   "metadata": {},
   "outputs": [
    {
     "data": {
      "text/plain": [
       "{15, 20, 25, 50, 80, 'Pooja', 'Sadiya'}"
      ]
     },
     "execution_count": 8,
     "metadata": {},
     "output_type": "execute_result"
    }
   ],
   "source": [
    "s"
   ]
  },
  {
   "cell_type": "code",
   "execution_count": 10,
   "id": "607fd399",
   "metadata": {},
   "outputs": [],
   "source": [
    "s.add((35,'Deepali'))"
   ]
  },
  {
   "cell_type": "code",
   "execution_count": 11,
   "id": "99759a5f",
   "metadata": {},
   "outputs": [
    {
     "data": {
      "text/plain": [
       "{(35, 'Deepali'), 15, 20, 25, 50, 80, 'Pooja', 'Sadiya'}"
      ]
     },
     "execution_count": 11,
     "metadata": {},
     "output_type": "execute_result"
    }
   ],
   "source": [
    "s"
   ]
  },
  {
   "cell_type": "code",
   "execution_count": 12,
   "id": "8797579e",
   "metadata": {},
   "outputs": [],
   "source": [
    "s1=s.copy() # shallow copy :different ids same content"
   ]
  },
  {
   "cell_type": "code",
   "execution_count": 13,
   "id": "b248c1cd",
   "metadata": {},
   "outputs": [
    {
     "data": {
      "text/plain": [
       "{(35, 'Deepali'), 15, 20, 25, 50, 80, 'Pooja', 'Sadiya'}"
      ]
     },
     "execution_count": 13,
     "metadata": {},
     "output_type": "execute_result"
    }
   ],
   "source": [
    "s1"
   ]
  },
  {
   "cell_type": "code",
   "execution_count": 14,
   "id": "42a5dbbc",
   "metadata": {},
   "outputs": [],
   "source": [
    "s1.clear()"
   ]
  },
  {
   "cell_type": "code",
   "execution_count": 15,
   "id": "71629cd5",
   "metadata": {},
   "outputs": [
    {
     "data": {
      "text/plain": [
       "set()"
      ]
     },
     "execution_count": 15,
     "metadata": {},
     "output_type": "execute_result"
    }
   ],
   "source": [
    "s1"
   ]
  },
  {
   "cell_type": "code",
   "execution_count": 16,
   "id": "23049be6",
   "metadata": {},
   "outputs": [
    {
     "data": {
      "text/plain": [
       "2971812069664"
      ]
     },
     "execution_count": 16,
     "metadata": {},
     "output_type": "execute_result"
    }
   ],
   "source": [
    "id(s)"
   ]
  },
  {
   "cell_type": "code",
   "execution_count": 17,
   "id": "09425320",
   "metadata": {},
   "outputs": [
    {
     "data": {
      "text/plain": [
       "2971812924992"
      ]
     },
     "execution_count": 17,
     "metadata": {},
     "output_type": "execute_result"
    }
   ],
   "source": [
    "id(s1)"
   ]
  },
  {
   "cell_type": "code",
   "execution_count": 18,
   "id": "485ef791",
   "metadata": {},
   "outputs": [],
   "source": [
    "s.update(('Deepali',35))"
   ]
  },
  {
   "cell_type": "code",
   "execution_count": 19,
   "id": "f2a5057e",
   "metadata": {},
   "outputs": [
    {
     "data": {
      "text/plain": [
       "{(35, 'Deepali'), 15, 20, 25, 35, 50, 80, 'Deepali', 'Pooja', 'Sadiya'}"
      ]
     },
     "execution_count": 19,
     "metadata": {},
     "output_type": "execute_result"
    }
   ],
   "source": [
    "s"
   ]
  },
  {
   "cell_type": "code",
   "execution_count": 23,
   "id": "7d7e5cda",
   "metadata": {},
   "outputs": [],
   "source": [
    "s.update('Deepali') # String is an iterable"
   ]
  },
  {
   "cell_type": "code",
   "execution_count": 24,
   "id": "2bbfa910",
   "metadata": {},
   "outputs": [
    {
     "name": "stdout",
     "output_type": "stream",
     "text": [
      "{'Deepali', (35, 'Deepali'), 15, 80, 20, 'i', 'D', 25, 'Pooja', 'Sadiya', 35, 'l', 50, 'a', 'p', 'e'}\n"
     ]
    }
   ],
   "source": [
    "print(s)"
   ]
  },
  {
   "cell_type": "code",
   "execution_count": 25,
   "id": "a70fbd33",
   "metadata": {},
   "outputs": [
    {
     "ename": "TypeError",
     "evalue": "'int' object is not iterable",
     "output_type": "error",
     "traceback": [
      "\u001b[1;31m---------------------------------------------------------------------------\u001b[0m",
      "\u001b[1;31mTypeError\u001b[0m                                 Traceback (most recent call last)",
      "\u001b[1;32m~\\AppData\\Local\\Temp\\ipykernel_3716\\3376137950.py\u001b[0m in \u001b[0;36m<module>\u001b[1;34m\u001b[0m\n\u001b[1;32m----> 1\u001b[1;33m \u001b[0ms\u001b[0m\u001b[1;33m.\u001b[0m\u001b[0mupdate\u001b[0m\u001b[1;33m(\u001b[0m\u001b[1;36m30\u001b[0m\u001b[1;33m)\u001b[0m\u001b[1;33m\u001b[0m\u001b[1;33m\u001b[0m\u001b[0m\n\u001b[0m",
      "\u001b[1;31mTypeError\u001b[0m: 'int' object is not iterable"
     ]
    }
   ],
   "source": [
    "s.update(30)"
   ]
  },
  {
   "cell_type": "code",
   "execution_count": 27,
   "id": "02393cfd",
   "metadata": {},
   "outputs": [],
   "source": [
    "s.update((30,))"
   ]
  },
  {
   "cell_type": "code",
   "execution_count": 29,
   "id": "130a9ce5",
   "metadata": {},
   "outputs": [
    {
     "name": "stdout",
     "output_type": "stream",
     "text": [
      "{'Deepali', (35, 'Deepali'), 15, 80, 20, 'i', 'D', 25, 'Pooja', 'Sadiya', 30, 35, 'l', 50, 'a', 'p', 'e'}\n"
     ]
    }
   ],
   "source": [
    "print(s)"
   ]
  },
  {
   "cell_type": "code",
   "execution_count": 30,
   "id": "471cdc1f",
   "metadata": {},
   "outputs": [],
   "source": [
    "s.discard('Deepali')"
   ]
  },
  {
   "cell_type": "code",
   "execution_count": 32,
   "id": "e136f59f",
   "metadata": {},
   "outputs": [
    {
     "name": "stdout",
     "output_type": "stream",
     "text": [
      "{(35, 'Deepali'), 15, 80, 20, 'i', 'D', 25, 'Pooja', 'Sadiya', 30, 35, 'l', 50, 'a', 'p', 'e'}\n"
     ]
    }
   ],
   "source": [
    "print(s)"
   ]
  },
  {
   "cell_type": "code",
   "execution_count": 33,
   "id": "71828960",
   "metadata": {},
   "outputs": [],
   "source": [
    "s.discard('Deepali') "
   ]
  },
  {
   "cell_type": "code",
   "execution_count": 34,
   "id": "03511c59",
   "metadata": {},
   "outputs": [
    {
     "name": "stdout",
     "output_type": "stream",
     "text": [
      "{(35, 'Deepali'), 15, 80, 20, 'i', 'D', 25, 'Pooja', 'Sadiya', 30, 35, 'l', 50, 'a', 'p', 'e'}\n"
     ]
    }
   ],
   "source": [
    "print(s) #No changes in s and no error"
   ]
  },
  {
   "cell_type": "code",
   "execution_count": 35,
   "id": "7b8f64da",
   "metadata": {},
   "outputs": [],
   "source": [
    "s.remove(15)"
   ]
  },
  {
   "cell_type": "code",
   "execution_count": 36,
   "id": "1dd02663",
   "metadata": {},
   "outputs": [
    {
     "name": "stdout",
     "output_type": "stream",
     "text": [
      "{(35, 'Deepali'), 80, 20, 'i', 'D', 25, 'Pooja', 'Sadiya', 30, 35, 'l', 50, 'a', 'p', 'e'}\n"
     ]
    }
   ],
   "source": [
    "print(s)"
   ]
  },
  {
   "cell_type": "code",
   "execution_count": 37,
   "id": "1f38c450",
   "metadata": {},
   "outputs": [
    {
     "ename": "KeyError",
     "evalue": "15",
     "output_type": "error",
     "traceback": [
      "\u001b[1;31m---------------------------------------------------------------------------\u001b[0m",
      "\u001b[1;31mKeyError\u001b[0m                                  Traceback (most recent call last)",
      "\u001b[1;32m~\\AppData\\Local\\Temp\\ipykernel_3716\\724836230.py\u001b[0m in \u001b[0;36m<module>\u001b[1;34m\u001b[0m\n\u001b[1;32m----> 1\u001b[1;33m \u001b[0ms\u001b[0m\u001b[1;33m.\u001b[0m\u001b[0mremove\u001b[0m\u001b[1;33m(\u001b[0m\u001b[1;36m15\u001b[0m\u001b[1;33m)\u001b[0m\u001b[1;33m\u001b[0m\u001b[1;33m\u001b[0m\u001b[0m\n\u001b[0m",
      "\u001b[1;31mKeyError\u001b[0m: 15"
     ]
    }
   ],
   "source": [
    "s.remove(15)"
   ]
  },
  {
   "cell_type": "code",
   "execution_count": 38,
   "id": "09f17bd1",
   "metadata": {},
   "outputs": [
    {
     "data": {
      "text/plain": [
       "(35, 'Deepali')"
      ]
     },
     "execution_count": 38,
     "metadata": {},
     "output_type": "execute_result"
    }
   ],
   "source": [
    "s.pop() # It removes first or last element and returns it. No need of argument"
   ]
  },
  {
   "cell_type": "code",
   "execution_count": 39,
   "id": "a421f3d8",
   "metadata": {},
   "outputs": [
    {
     "data": {
      "text/plain": [
       "80"
      ]
     },
     "execution_count": 39,
     "metadata": {},
     "output_type": "execute_result"
    }
   ],
   "source": [
    "s.pop()"
   ]
  },
  {
   "cell_type": "code",
   "execution_count": 40,
   "id": "e58f94c9",
   "metadata": {},
   "outputs": [
    {
     "data": {
      "text/plain": [
       "{20, 25, 30, 35, 50, 'D', 'Pooja', 'Sadiya', 'a', 'e', 'i', 'l', 'p'}"
      ]
     },
     "execution_count": 40,
     "metadata": {},
     "output_type": "execute_result"
    }
   ],
   "source": [
    "s"
   ]
  },
  {
   "cell_type": "code",
   "execution_count": 41,
   "id": "10633ceb",
   "metadata": {},
   "outputs": [
    {
     "data": {
      "text/plain": [
       "20"
      ]
     },
     "execution_count": 41,
     "metadata": {},
     "output_type": "execute_result"
    }
   ],
   "source": [
    "s.pop()"
   ]
  },
  {
   "cell_type": "code",
   "execution_count": 42,
   "id": "fbd27b8e",
   "metadata": {},
   "outputs": [
    {
     "data": {
      "text/plain": [
       "'i'"
      ]
     },
     "execution_count": 42,
     "metadata": {},
     "output_type": "execute_result"
    }
   ],
   "source": [
    "s.pop()"
   ]
  },
  {
   "cell_type": "markdown",
   "id": "f88858aa",
   "metadata": {},
   "source": [
    "### Set Operations"
   ]
  },
  {
   "cell_type": "code",
   "execution_count": 43,
   "id": "3752ad56",
   "metadata": {},
   "outputs": [],
   "source": [
    "s1={5,8,9,4,3}\n",
    "s2={11,22,5,8,9,2}"
   ]
  },
  {
   "cell_type": "code",
   "execution_count": 44,
   "id": "e3a8983c",
   "metadata": {},
   "outputs": [
    {
     "data": {
      "text/plain": [
       "{2, 3, 4, 5, 8, 9, 11, 22}"
      ]
     },
     "execution_count": 44,
     "metadata": {},
     "output_type": "execute_result"
    }
   ],
   "source": [
    "s1.union(s2) # It takes all values from both sets .Duplicates not allowed"
   ]
  },
  {
   "cell_type": "code",
   "execution_count": 47,
   "id": "0daf9108",
   "metadata": {},
   "outputs": [
    {
     "data": {
      "text/plain": [
       "{5, 8, 9}"
      ]
     },
     "execution_count": 47,
     "metadata": {},
     "output_type": "execute_result"
    }
   ],
   "source": [
    "s1.intersection(s2) # Fetches Common values"
   ]
  },
  {
   "cell_type": "code",
   "execution_count": 48,
   "id": "44dced91",
   "metadata": {},
   "outputs": [
    {
     "data": {
      "text/plain": [
       "{3, 4}"
      ]
     },
     "execution_count": 48,
     "metadata": {},
     "output_type": "execute_result"
    }
   ],
   "source": [
    "s1.difference(s2) #takes all values from set1 except common between 2"
   ]
  },
  {
   "cell_type": "code",
   "execution_count": 49,
   "id": "bc4dcfe8",
   "metadata": {},
   "outputs": [
    {
     "data": {
      "text/plain": [
       "{2, 11, 22}"
      ]
     },
     "execution_count": 49,
     "metadata": {},
     "output_type": "execute_result"
    }
   ],
   "source": [
    "s2.difference(s1) #takes all values from set2 except common between 1"
   ]
  },
  {
   "cell_type": "code",
   "execution_count": 50,
   "id": "cd50f0c8",
   "metadata": {},
   "outputs": [
    {
     "data": {
      "text/plain": [
       "{2, 3, 4, 11, 22}"
      ]
     },
     "execution_count": 50,
     "metadata": {},
     "output_type": "execute_result"
    }
   ],
   "source": [
    "s1.symmetric_difference(s2)"
   ]
  },
  {
   "cell_type": "code",
   "execution_count": 51,
   "id": "05b9e877",
   "metadata": {},
   "outputs": [
    {
     "data": {
      "text/plain": [
       "{2, 3, 4, 11, 22}"
      ]
     },
     "execution_count": 51,
     "metadata": {},
     "output_type": "execute_result"
    }
   ],
   "source": [
    "s2.symmetric_difference(s1)"
   ]
  },
  {
   "cell_type": "code",
   "execution_count": 52,
   "id": "a83bc1ef",
   "metadata": {},
   "outputs": [
    {
     "ename": "TypeError",
     "evalue": "unsupported operand type(s) for +: 'set' and 'set'",
     "output_type": "error",
     "traceback": [
      "\u001b[1;31m---------------------------------------------------------------------------\u001b[0m",
      "\u001b[1;31mTypeError\u001b[0m                                 Traceback (most recent call last)",
      "\u001b[1;32m~\\AppData\\Local\\Temp\\ipykernel_3716\\1145531307.py\u001b[0m in \u001b[0;36m<module>\u001b[1;34m\u001b[0m\n\u001b[1;32m----> 1\u001b[1;33m \u001b[0ms1\u001b[0m\u001b[1;33m+\u001b[0m\u001b[0ms2\u001b[0m\u001b[1;33m\u001b[0m\u001b[1;33m\u001b[0m\u001b[0m\n\u001b[0m",
      "\u001b[1;31mTypeError\u001b[0m: unsupported operand type(s) for +: 'set' and 'set'"
     ]
    }
   ],
   "source": [
    "s1+s2"
   ]
  },
  {
   "cell_type": "code",
   "execution_count": 53,
   "id": "d8f17a7c",
   "metadata": {},
   "outputs": [
    {
     "data": {
      "text/plain": [
       "{2, 3, 4, 5, 8, 9, 11, 22}"
      ]
     },
     "execution_count": 53,
     "metadata": {},
     "output_type": "execute_result"
    }
   ],
   "source": [
    "s1|s2# union"
   ]
  },
  {
   "cell_type": "code",
   "execution_count": 54,
   "id": "38e825c1",
   "metadata": {},
   "outputs": [
    {
     "data": {
      "text/plain": [
       "{3, 4}"
      ]
     },
     "execution_count": 54,
     "metadata": {},
     "output_type": "execute_result"
    }
   ],
   "source": [
    "s1-s2 # difference"
   ]
  },
  {
   "cell_type": "code",
   "execution_count": 55,
   "id": "b515edd4",
   "metadata": {},
   "outputs": [
    {
     "data": {
      "text/plain": [
       "{5, 8, 9}"
      ]
     },
     "execution_count": 55,
     "metadata": {},
     "output_type": "execute_result"
    }
   ],
   "source": [
    "s1 & s2 #intersection"
   ]
  },
  {
   "cell_type": "code",
   "execution_count": 56,
   "id": "401741e6",
   "metadata": {},
   "outputs": [
    {
     "data": {
      "text/plain": [
       "{2, 3, 4, 11, 22}"
      ]
     },
     "execution_count": 56,
     "metadata": {},
     "output_type": "execute_result"
    }
   ],
   "source": [
    "s1^s2 #XOR ,Symmetric difference"
   ]
  },
  {
   "cell_type": "code",
   "execution_count": 57,
   "id": "035cf396",
   "metadata": {},
   "outputs": [
    {
     "data": {
      "text/plain": [
       "False"
      ]
     },
     "execution_count": 57,
     "metadata": {},
     "output_type": "execute_result"
    }
   ],
   "source": [
    "s1.isdisjoint(s2) #Returns whether two sets have a intersection or not, if yes gives false if no intersection gives true"
   ]
  },
  {
   "cell_type": "code",
   "execution_count": 58,
   "id": "a8a2f038",
   "metadata": {},
   "outputs": [
    {
     "data": {
      "text/plain": [
       "False"
      ]
     },
     "execution_count": 58,
     "metadata": {},
     "output_type": "execute_result"
    }
   ],
   "source": [
    "s1.issubset(s2) # s1 must be in s2 then true else false"
   ]
  },
  {
   "cell_type": "code",
   "execution_count": 59,
   "id": "be59955f",
   "metadata": {},
   "outputs": [
    {
     "data": {
      "text/plain": [
       "True"
      ]
     },
     "execution_count": 59,
     "metadata": {},
     "output_type": "execute_result"
    }
   ],
   "source": [
    "{1,2,3}.issubset({1,2,5,3,8})"
   ]
  },
  {
   "cell_type": "code",
   "execution_count": 60,
   "id": "53b242b5",
   "metadata": {},
   "outputs": [
    {
     "data": {
      "text/plain": [
       "False"
      ]
     },
     "execution_count": 60,
     "metadata": {},
     "output_type": "execute_result"
    }
   ],
   "source": [
    "{1,2,3}.issuperset({1,2,5,3,8})"
   ]
  },
  {
   "cell_type": "code",
   "execution_count": 61,
   "id": "52831d66",
   "metadata": {},
   "outputs": [
    {
     "data": {
      "text/plain": [
       "True"
      ]
     },
     "execution_count": 61,
     "metadata": {},
     "output_type": "execute_result"
    }
   ],
   "source": [
    "{1,2,5,3,8}.issuperset({1,2,3})"
   ]
  },
  {
   "cell_type": "code",
   "execution_count": null,
   "id": "55c6bbcb",
   "metadata": {},
   "outputs": [],
   "source": []
  },
  {
   "cell_type": "markdown",
   "id": "b75439df",
   "metadata": {},
   "source": [
    "### All above operations were temporary"
   ]
  },
  {
   "cell_type": "code",
   "execution_count": 62,
   "id": "7f0a96f0",
   "metadata": {},
   "outputs": [],
   "source": [
    "x = {\"apple\", \"banana\", \"cherry\"}\n",
    "y = {\"google\", \"microsoft\", \"apple\"}\n",
    "x.intersection_update(y)"
   ]
  },
  {
   "cell_type": "code",
   "execution_count": 63,
   "id": "801d76cf",
   "metadata": {},
   "outputs": [
    {
     "data": {
      "text/plain": [
       "{'apple'}"
      ]
     },
     "execution_count": 63,
     "metadata": {},
     "output_type": "execute_result"
    }
   ],
   "source": [
    "x"
   ]
  },
  {
   "cell_type": "code",
   "execution_count": 64,
   "id": "5e4f7b3f",
   "metadata": {},
   "outputs": [
    {
     "data": {
      "text/plain": [
       "{'apple', 'google', 'microsoft'}"
      ]
     },
     "execution_count": 64,
     "metadata": {},
     "output_type": "execute_result"
    }
   ],
   "source": [
    "y"
   ]
  },
  {
   "cell_type": "code",
   "execution_count": 65,
   "id": "5441a364",
   "metadata": {},
   "outputs": [
    {
     "name": "stdout",
     "output_type": "stream",
     "text": [
      "{3, 4, 5, 8, 9} {2, 5, 22, 8, 9, 11}\n"
     ]
    }
   ],
   "source": [
    "print(s1,s2)"
   ]
  },
  {
   "cell_type": "code",
   "execution_count": 66,
   "id": "d740a6be",
   "metadata": {},
   "outputs": [],
   "source": [
    "s1.symmetric_difference_update(s2) # it stores the difference in s1"
   ]
  },
  {
   "cell_type": "code",
   "execution_count": 67,
   "id": "69748458",
   "metadata": {},
   "outputs": [
    {
     "data": {
      "text/plain": [
       "{2, 3, 4, 11, 22}"
      ]
     },
     "execution_count": 67,
     "metadata": {},
     "output_type": "execute_result"
    }
   ],
   "source": [
    "s1"
   ]
  },
  {
   "cell_type": "code",
   "execution_count": 68,
   "id": "1e9ecb27",
   "metadata": {},
   "outputs": [],
   "source": [
    "s2.symmetric_difference_update(s1)"
   ]
  },
  {
   "cell_type": "code",
   "execution_count": 69,
   "id": "d4467ebe",
   "metadata": {},
   "outputs": [
    {
     "data": {
      "text/plain": [
       "{3, 4, 5, 8, 9}"
      ]
     },
     "execution_count": 69,
     "metadata": {},
     "output_type": "execute_result"
    }
   ],
   "source": [
    "s2"
   ]
  },
  {
   "cell_type": "code",
   "execution_count": null,
   "id": "a2032070",
   "metadata": {},
   "outputs": [],
   "source": []
  }
 ],
 "metadata": {
  "kernelspec": {
   "display_name": "Python 3 (ipykernel)",
   "language": "python",
   "name": "python3"
  },
  "language_info": {
   "codemirror_mode": {
    "name": "ipython",
    "version": 3
   },
   "file_extension": ".py",
   "mimetype": "text/x-python",
   "name": "python",
   "nbconvert_exporter": "python",
   "pygments_lexer": "ipython3",
   "version": "3.9.13"
  }
 },
 "nbformat": 4,
 "nbformat_minor": 5
}
